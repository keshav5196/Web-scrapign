{
 "cells": [
  {
   "cell_type": "markdown",
   "metadata": {
    "colab_type": "text",
    "id": "PoNCjeult-Qp"
   },
   "source": [
    "**Streaming tweets from the Twitter API v1.1**\n",
    "\n",
    "First you need have to a Twitter account. After that go to Twitter Apps.\n",
    "\n",
    "Next, make a new application, filling in your name, description, website, agree to their terms, do the captcha, and create the application.\n",
    "\n",
    "Once submitted successfully, you should be presented with a page where you can see your consumer key and consumer secret. Now you need an access token, so scroll down and click on \"create my access token\"."
   ]
  },
  {
   "cell_type": "code",
   "execution_count": 1,
   "metadata": {
    "colab": {},
    "colab_type": "code",
    "id": "luhjZOMmul8q"
   },
   "outputs": [],
   "source": [
    "from tweepy import Stream\n",
    "from tweepy import OAuthHandler\n",
    "from tweepy.streaming import StreamListener\n",
    "import time\n",
    "from tweepy import API, Cursor\n",
    "\n",
    "import pandas as pd\n",
    "import numpy as np"
   ]
  },
  {
   "cell_type": "code",
   "execution_count": 2,
   "metadata": {
    "colab": {},
    "colab_type": "code",
    "id": "6ueDbE_8vDnJ"
   },
   "outputs": [],
   "source": [
    "#Get consumer key, consumer secret, access token and access secret from your account\n",
    "\n",
    "ckey = 'NQb8eQapFBwILFLhQ9iqRxFeF'\n",
    "csecret = 'sZCLTQW6PfaygcmMfvde1BELCCxGdXoWXjL8Uv8lvLuOlGroHt'\n",
    "akey = '1152874593327054848-ilOE3GXanLAFs7eZjD9pRbUJVigBfb'\n",
    "asecret = '00VcFNOIDDshYNEGnkplHCOItAWxGcipozQ5hb8kMZCGg' "
   ]
  },
  {
   "cell_type": "code",
   "execution_count": 3,
   "metadata": {},
   "outputs": [],
   "source": [
    "# Giving credentials to the program\n",
    "class TwitterAuthenticator():\n",
    "                            \n",
    "    def authenticate_twitter_app(app):\n",
    "        auth = OAuthHandler(ckey, csecret)\n",
    "        auth.set_access_token(akey, asecret)\n",
    "        return auth\n",
    "    \n",
    "class TwitterClient():\n",
    "    \n",
    "    def __init__(self, twitter_user=None):\n",
    "        self.auth = TwitterAuthenticator().authenticate_twitter_app()\n",
    "        self.twitter_client = API(self.auth)\n",
    "        \n",
    "        self.twitter_user = twitter_user\n",
    "        \n",
    "    def get_twitter_client_api(self):\n",
    "        return self.twitter_client\n",
    "        \n",
    "    def get_usertimeline_tweets(self, num_tweets):\n",
    "        tweets = []\n",
    "        for tweet in Cursor(self.twitter_client.user_timeline, id = self.twitter_user).items(num_tweets):\n",
    "            tweets.append(tweet)\n",
    "        return tweets\n",
    "    \n",
    "    def get_friend_list(self, num_friends):\n",
    "        friend_list = []\n",
    "        for friend in Cursor(self.twitter_client.friends, id = self.twitter_user).items(num_friends):\n",
    "            friend_list.append(friend)\n",
    "        return friend_list\n",
    "    \n",
    "    def get_hometimeline_tweets(self, num_tweets):\n",
    "        hometimeline_list = []\n",
    "        for tweet in Cursor(self.twitter_client.home_timeline, id = self.twitter_user).items(num_tweets):\n",
    "            hometimeline_list.append(tweet)\n",
    "        return hometimeline_list"
   ]
  },
  {
   "cell_type": "code",
   "execution_count": 4,
   "metadata": {
    "colab": {
     "base_uri": "https://localhost:8080/",
     "height": 340
    },
    "colab_type": "code",
    "id": "T4xA_j280cF7",
    "outputId": "dc112161-b9b9-4106-fdca-d1661a6c2588"
   },
   "outputs": [],
   "source": [
    "# This class just prints the tweets received from the Stream\n",
    "class TwitterStreamListener(StreamListener):\n",
    "    \n",
    "    def __init__(self, tweets_filename):\n",
    "        self.tweets_filename = tweets_filename\n",
    "        \n",
    "    def on_data(self, data):\n",
    "        try:\n",
    "            print(data)\n",
    "            with open(self.tweets_filename, a) as f:\n",
    "                f.write(data)\n",
    "        except BaseException as e:\n",
    "            print(\"Error on data {}\".format(e))\n",
    "        return True\n",
    "    \n",
    "    def on_error(self, status):\n",
    "        print(status)\n",
    "        \n",
    "# Class for streaming and processing live tweets        \n",
    "class TwitterStreamer():\n",
    "    \n",
    "    def __init__(self):\n",
    "        self.twitter_authenticator = TwitterAuthenticator()\n",
    "    # This handles Twitter authentication and connection to the Twitter API\n",
    "    def stream_tweets(self, tweets_filename, track_list):\n",
    "        \n",
    "        listener = TwitterStreamListener(tweets_filename)\n",
    "        auth = self.twitter_authenticator.authenticate_twitter_app()\n",
    "        stream = Stream(auth, listener)\n",
    "    \n",
    "    # This filters the Twitter Stream for the provided keywords\n",
    "        stream.filter(track = track_list)"
   ]
  },
  {
   "cell_type": "code",
   "execution_count": 5,
   "metadata": {},
   "outputs": [],
   "source": [
    "# Functionality for analyzing and categorizing content form tweets\n",
    "class TwitterAnalyzer():\n",
    "    \n",
    "    def tweets_to_dataframe(self, tweets):\n",
    "        \n",
    "        df = pd.DataFrame(data = [tweet.text for tweet in tweets], columns = ['Tweets'])\n",
    "        \n",
    "        df['id'] = np.array([tweet.id for tweet in tweets])\n",
    "        df['len'] = np.array([len(tweet.text) for tweet in tweets])\n",
    "        df['date'] = np.array([tweet.created_at for tweet in tweets])\n",
    "        df['source'] = np.array([tweet.source for tweet in tweets])\n",
    "        df['retweets'] = np.array([tweet.retweet_count for tweet in tweets])\n",
    "        df['likes'] = np.array([tweet.favorite_count for tweet in tweets])\n",
    "        \n",
    "        return df"
   ]
  },
  {
   "cell_type": "code",
   "execution_count": 6,
   "metadata": {
    "colab": {},
    "colab_type": "code",
    "id": "ooylHdaj6zy7"
   },
   "outputs": [],
   "source": [
    "track_list = [\"donal trump\", \"hillary clinton\", \"barack obama\", \"bernie sanders\"]\n",
    "tweets_filename = \"tweets.txt\"\n",
    "\n",
    "# twitter_client = TwitterClient(twitter_user='pycon')\n",
    "# print(twitter_client.get_usertimeline_tweets(10))\n",
    "\n",
    "# twitter_streamer = TwitterStreamer()\n",
    "# twitter_streamer.stream_tweets(tweets_filename, track_list)"
   ]
  },
  {
   "cell_type": "code",
   "execution_count": 8,
   "metadata": {},
   "outputs": [
    {
     "name": "stdout",
     "output_type": "stream",
     "text": [
      "                                              Tweets                   id  \\\n",
      "0  RT @Jim_Jordan: Democrats on the House Judicia...  1172354179358232576   \n",
      "1  RT @VP: Even the Washington Post, the Democrat...  1172354049624170498   \n",
      "2   RT @KellyannePolls: Wow. https://t.co/DJ2Stc2MhF  1172353428288430080   \n",
      "3  RT @Trump: Proud to announce that @TrumpNewYor...  1172353230505938946   \n",
      "4  RT @Jim_Jordan: Looks like we might be getting...  1172353025270276097   \n",
      "5  RT @Jim_Jordan: Comey:\\n-Opened Trump-Russia i...  1172352958379495424   \n",
      "6  RT @RepRatcliffe: If reports are accurate that...  1172352873046429696   \n",
      "7           Hello Baltimore! https://t.co/Iz2aYj7rrC  1172280991873978368   \n",
      "8  In fact, my views on Venezuela, and especially...  1172198767627526151   \n",
      "9  “This should have been over with after the Mue...  1172151706701959171   \n",
      "\n",
      "   len                date              source  retweets  likes  \n",
      "0  140 2019-09-13 03:39:52  Twitter for iPhone     22110      0  \n",
      "1  140 2019-09-13 03:39:21  Twitter for iPhone      5547      0  \n",
      "2   48 2019-09-13 03:36:53  Twitter for iPhone      3652      0  \n",
      "3  140 2019-09-13 03:36:06  Twitter for iPhone      3077      0  \n",
      "4  107 2019-09-13 03:35:17  Twitter for iPhone      9892      0  \n",
      "5  140 2019-09-13 03:35:01  Twitter for iPhone     10149      0  \n",
      "6  140 2019-09-13 03:34:40  Twitter for iPhone      4716      0  \n",
      "7   40 2019-09-12 22:49:03  Twitter for iPhone     10925  62599  \n",
      "8  140 2019-09-12 17:22:19  Twitter for iPhone     16876  52079  \n",
      "9   89 2019-09-12 14:15:19  Twitter for iPhone      9524  41355  \n"
     ]
    }
   ],
   "source": [
    "twitter_client = TwitterClient()\n",
    "api = twitter_client.get_twitter_client_api()\n",
    "\n",
    "tweets = api.user_timeline(screen_name=\"realDonaldTrump\", count=20)\n",
    "df = TwitterAnalyzer().tweets_to_dataframe(tweets)\n",
    "print(df.head(10))"
   ]
  },
  {
   "cell_type": "code",
   "execution_count": null,
   "metadata": {},
   "outputs": [],
   "source": [
    "\n"
   ]
  },
  {
   "cell_type": "code",
   "execution_count": null,
   "metadata": {},
   "outputs": [],
   "source": []
  }
 ],
 "metadata": {
  "colab": {
   "name": "Project1_Getting data from Twitter API.ipynb",
   "provenance": [],
   "version": "0.3.2"
  },
  "kernelspec": {
   "display_name": "Python 3",
   "language": "python",
   "name": "python3"
  },
  "language_info": {
   "codemirror_mode": {
    "name": "ipython",
    "version": 3
   },
   "file_extension": ".py",
   "mimetype": "text/x-python",
   "name": "python",
   "nbconvert_exporter": "python",
   "pygments_lexer": "ipython3",
   "version": "3.7.3"
  }
 },
 "nbformat": 4,
 "nbformat_minor": 1
}
