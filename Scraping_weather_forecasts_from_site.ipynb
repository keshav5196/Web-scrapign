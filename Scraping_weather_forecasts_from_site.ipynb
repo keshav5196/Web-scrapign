{
  "nbformat": 4,
  "nbformat_minor": 0,
  "metadata": {
    "colab": {
      "name": "Scraping weather forecasts from site.ipynb",
      "version": "0.3.2",
      "provenance": [],
      "collapsed_sections": []
    },
    "kernelspec": {
      "name": "python3",
      "display_name": "Python 3"
    }
  },
  "cells": [
    {
      "cell_type": "markdown",
      "metadata": {
        "id": "oE4ufOgFAVtH",
        "colab_type": "text"
      },
      "source": [
        "**National Weather Service**\n"
      ]
    },
    {
      "cell_type": "code",
      "metadata": {
        "id": "uqXn-7dKL0Tj",
        "colab_type": "code",
        "colab": {}
      },
      "source": [
        "from bs4 import BeautifulSoup\n",
        "import requests\n",
        "import pandas as pd"
      ],
      "execution_count": 0,
      "outputs": []
    },
    {
      "cell_type": "code",
      "metadata": {
        "id": "WxbPHoPyMBs_",
        "colab_type": "code",
        "colab": {}
      },
      "source": [
        "source = requests.get('https://forecast.weather.gov/MapClick.php?lat=37.7772&lon=-122.4168#.XYDOuigza02').text"
      ],
      "execution_count": 0,
      "outputs": []
    },
    {
      "cell_type": "code",
      "metadata": {
        "id": "v_MBjdn3MHp-",
        "colab_type": "code",
        "colab": {}
      },
      "source": [
        "soup = BeautifulSoup(source, 'lxml')"
      ],
      "execution_count": 0,
      "outputs": []
    },
    {
      "cell_type": "code",
      "metadata": {
        "id": "prHN-SegMQA3",
        "colab_type": "code",
        "colab": {}
      },
      "source": [
        "seven_day = soup.find(id = 'seven-day-forecast')"
      ],
      "execution_count": 0,
      "outputs": []
    },
    {
      "cell_type": "code",
      "metadata": {
        "id": "JO_cRxffMf33",
        "colab_type": "code",
        "colab": {
          "base_uri": "https://localhost:8080/",
          "height": 836
        },
        "outputId": "2057f35f-c31f-4a9d-c375-bfe4e24438c5"
      },
      "source": [
        "print(seven_day)"
      ],
      "execution_count": 6,
      "outputs": [
        {
          "output_type": "stream",
          "text": [
            "<div class=\"panel panel-default\" id=\"seven-day-forecast\">\n",
            "<div class=\"panel-heading\">\n",
            "<b>Extended Forecast for</b>\n",
            "<h2 class=\"panel-title\">\n",
            "\t    \t    San Francisco CA\t</h2>\n",
            "</div>\n",
            "<div class=\"panel-body\" id=\"seven-day-forecast-body\">\n",
            "<div id=\"seven-day-forecast-container\"><ul class=\"list-unstyled\" id=\"seven-day-forecast-list\"><li class=\"forecast-tombstone\">\n",
            "<div class=\"tombstone-container\">\n",
            "<p class=\"period-name\">Today<br/><br/></p>\n",
            "<p><img alt=\"Today: Sunny, with a high near 70. Light and variable wind becoming west 10 to 15 mph in the afternoon. Winds could gust as high as 18 mph. \" class=\"forecast-icon\" src=\"newimages/medium/few.png\" title=\"Today: Sunny, with a high near 70. Light and variable wind becoming west 10 to 15 mph in the afternoon. Winds could gust as high as 18 mph. \"/></p><p class=\"short-desc\">Sunny</p><p class=\"temp temp-high\">High: 70 °F</p></div></li><li class=\"forecast-tombstone\">\n",
            "<div class=\"tombstone-container\">\n",
            "<p class=\"period-name\">Tonight<br/><br/></p>\n",
            "<p><img alt=\"Tonight: Increasing clouds, with a low around 59. West wind 7 to 15 mph, with gusts as high as 20 mph. \" class=\"forecast-icon\" src=\"newimages/medium/nbkn.png\" title=\"Tonight: Increasing clouds, with a low around 59. West wind 7 to 15 mph, with gusts as high as 20 mph. \"/></p><p class=\"short-desc\">Increasing<br/>Clouds</p><p class=\"temp temp-low\">Low: 59 °F</p></div></li><li class=\"forecast-tombstone\">\n",
            "<div class=\"tombstone-container\">\n",
            "<p class=\"period-name\">Wednesday<br/><br/></p>\n",
            "<p><img alt=\"Wednesday: A 20 percent chance of showers before noon.  Mostly cloudy, with a high near 69. Light south southwest wind becoming west 5 to 9 mph in the morning.  New precipitation amounts of less than a tenth of an inch possible. \" class=\"forecast-icon\" src=\"DualImage.php?i=shra&amp;j=bkn&amp;ip=20\" title=\"Wednesday: A 20 percent chance of showers before noon.  Mostly cloudy, with a high near 69. Light south southwest wind becoming west 5 to 9 mph in the morning.  New precipitation amounts of less than a tenth of an inch possible. \"/></p><p class=\"short-desc\">Slight Chance<br/>Showers then<br/>Mostly Cloudy</p><p class=\"temp temp-high\">High: 69 °F</p></div></li><li class=\"forecast-tombstone\">\n",
            "<div class=\"tombstone-container\">\n",
            "<p class=\"period-name\">Wednesday<br/>Night</p>\n",
            "<p><img alt=\"Wednesday Night: Partly cloudy, with a low around 58. West wind 8 to 13 mph. \" class=\"forecast-icon\" src=\"newimages/medium/nsct.png\" title=\"Wednesday Night: Partly cloudy, with a low around 58. West wind 8 to 13 mph. \"/></p><p class=\"short-desc\">Partly Cloudy</p><p class=\"temp temp-low\">Low: 58 °F</p></div></li><li class=\"forecast-tombstone\">\n",
            "<div class=\"tombstone-container\">\n",
            "<p class=\"period-name\">Thursday<br/><br/></p>\n",
            "<p><img alt=\"Thursday: Mostly sunny, with a high near 70. Light and variable wind becoming west 5 to 10 mph in the afternoon. \" class=\"forecast-icon\" src=\"newimages/medium/sct.png\" title=\"Thursday: Mostly sunny, with a high near 70. Light and variable wind becoming west 5 to 10 mph in the afternoon. \"/></p><p class=\"short-desc\">Mostly Sunny</p><p class=\"temp temp-high\">High: 70 °F</p></div></li><li class=\"forecast-tombstone\">\n",
            "<div class=\"tombstone-container\">\n",
            "<p class=\"period-name\">Thursday<br/>Night</p>\n",
            "<p><img alt=\"Thursday Night: Mostly clear, with a low around 57.\" class=\"forecast-icon\" src=\"newimages/medium/nfew.png\" title=\"Thursday Night: Mostly clear, with a low around 57.\"/></p><p class=\"short-desc\">Mostly Clear</p><p class=\"temp temp-low\">Low: 57 °F</p></div></li><li class=\"forecast-tombstone\">\n",
            "<div class=\"tombstone-container\">\n",
            "<p class=\"period-name\">Friday<br/><br/></p>\n",
            "<p><img alt=\"Friday: Sunny, with a high near 76.\" class=\"forecast-icon\" src=\"newimages/medium/few.png\" title=\"Friday: Sunny, with a high near 76.\"/></p><p class=\"short-desc\">Sunny</p><p class=\"temp temp-high\">High: 76 °F</p></div></li><li class=\"forecast-tombstone\">\n",
            "<div class=\"tombstone-container\">\n",
            "<p class=\"period-name\">Friday<br/>Night</p>\n",
            "<p><img alt=\"Friday Night: Clear, with a low around 58.\" class=\"forecast-icon\" src=\"newimages/medium/nskc.png\" title=\"Friday Night: Clear, with a low around 58.\"/></p><p class=\"short-desc\">Clear</p><p class=\"temp temp-low\">Low: 58 °F</p></div></li><li class=\"forecast-tombstone\">\n",
            "<div class=\"tombstone-container\">\n",
            "<p class=\"period-name\">Saturday<br/><br/></p>\n",
            "<p><img alt=\"Saturday: Sunny, with a high near 76.\" class=\"forecast-icon\" src=\"newimages/medium/skc.png\" title=\"Saturday: Sunny, with a high near 76.\"/></p><p class=\"short-desc\">Sunny</p><p class=\"temp temp-high\">High: 76 °F</p></div></li></ul></div>\n",
            "<script type=\"text/javascript\">\n",
            "// equalize forecast heights\n",
            "$(function () {\n",
            "\tvar maxh = 0;\n",
            "\t$(\".forecast-tombstone .short-desc\").each(function () {\n",
            "\t\tvar h = $(this).height();\n",
            "\t\tif (h > maxh) { maxh = h; }\n",
            "\t});\n",
            "\t$(\".forecast-tombstone .short-desc\").height(maxh);\n",
            "});\n",
            "</script> </div>\n",
            "</div>\n"
          ],
          "name": "stdout"
        }
      ]
    },
    {
      "cell_type": "code",
      "metadata": {
        "id": "l7v78j5-Ot8F",
        "colab_type": "code",
        "colab": {
          "base_uri": "https://localhost:8080/",
          "height": 34
        },
        "outputId": "c3c4a4b0-14ec-4f96-e4f2-15437f90b1b1"
      },
      "source": [
        "period_tags = [x.find('p', class_='period-name').text for x in seven_day.find_all('div', class_='tombstone-container')]\n",
        "\n",
        "print(period_tags)  "
      ],
      "execution_count": 9,
      "outputs": [
        {
          "output_type": "stream",
          "text": [
            "['Today', 'Tonight', 'Wednesday', 'WednesdayNight', 'Thursday', 'ThursdayNight', 'Friday', 'FridayNight', 'Saturday']\n"
          ],
          "name": "stdout"
        }
      ]
    },
    {
      "cell_type": "code",
      "metadata": {
        "id": "9BmHdxxEQqya",
        "colab_type": "code",
        "colab": {
          "base_uri": "https://localhost:8080/",
          "height": 34
        },
        "outputId": "7c82aee6-7e5c-41c4-a4ed-836be775519a"
      },
      "source": [
        "short_desc = [x.find('p', class_='short-desc').text for x in seven_day.find_all('div', class_='tombstone-container')]\n",
        "\n",
        "print(short_desc)"
      ],
      "execution_count": 10,
      "outputs": [
        {
          "output_type": "stream",
          "text": [
            "['Sunny', 'IncreasingClouds', 'Slight ChanceShowers thenMostly Cloudy', 'Partly Cloudy', 'Mostly Sunny', 'Mostly Clear', 'Sunny', 'Clear', 'Sunny']\n"
          ],
          "name": "stdout"
        }
      ]
    },
    {
      "cell_type": "code",
      "metadata": {
        "id": "B5BkqhvLWAav",
        "colab_type": "code",
        "colab": {
          "base_uri": "https://localhost:8080/",
          "height": 34
        },
        "outputId": "535c4ce8-9d9a-49fc-be58-3e213ed27efa"
      },
      "source": [
        "temps = [x.find('p', class_='temp').text for x in seven_day.find_all('div', class_='tombstone-container')]\n",
        "\n",
        "print(temps)"
      ],
      "execution_count": 11,
      "outputs": [
        {
          "output_type": "stream",
          "text": [
            "['High: 70 °F', 'Low: 59 °F', 'High: 69 °F', 'Low: 58 °F', 'High: 70 °F', 'Low: 57 °F', 'High: 76 °F', 'Low: 58 °F', 'High: 76 °F']\n"
          ],
          "name": "stdout"
        }
      ]
    },
    {
      "cell_type": "code",
      "metadata": {
        "id": "tJ4CD-LjXFk8",
        "colab_type": "code",
        "colab": {}
      },
      "source": [
        "descs = [x.find('img')['title'] for x in seven_day.find_all('div', class_='tombstone-container')]"
      ],
      "execution_count": 0,
      "outputs": []
    },
    {
      "cell_type": "code",
      "metadata": {
        "id": "TfRWc8UdXe1P",
        "colab_type": "code",
        "colab": {
          "base_uri": "https://localhost:8080/",
          "height": 54
        },
        "outputId": "8a22e2d2-0e9c-4752-ed38-e771c6d1350a"
      },
      "source": [
        "print(descs)"
      ],
      "execution_count": 19,
      "outputs": [
        {
          "output_type": "stream",
          "text": [
            "['Today: Sunny, with a high near 70. Light and variable wind becoming west 10 to 15 mph in the afternoon. Winds could gust as high as 18 mph. ', 'Tonight: Increasing clouds, with a low around 59. West wind 7 to 15 mph, with gusts as high as 20 mph. ', 'Wednesday: A 20 percent chance of showers before noon.  Mostly cloudy, with a high near 69. Light south southwest wind becoming west 5 to 9 mph in the morning.  New precipitation amounts of less than a tenth of an inch possible. ', 'Wednesday Night: Partly cloudy, with a low around 58. West wind 8 to 13 mph. ', 'Thursday: Mostly sunny, with a high near 70. Light and variable wind becoming west 5 to 10 mph in the afternoon. ', 'Thursday Night: Mostly clear, with a low around 57.', 'Friday: Sunny, with a high near 76.', 'Friday Night: Clear, with a low around 58.', 'Saturday: Sunny, with a high near 76.']\n"
          ],
          "name": "stdout"
        }
      ]
    },
    {
      "cell_type": "code",
      "metadata": {
        "id": "iirahPl2-T7k",
        "colab_type": "code",
        "colab": {
          "base_uri": "https://localhost:8080/",
          "height": 204
        },
        "outputId": "f01e1855-3ca4-44c3-bd9b-e26bad41783b"
      },
      "source": [
        "weather = pd.DataFrame({'periods': period_tags, 'short_desc': short_desc,\n",
        "                        'temps': temps, 'description': descs})\n",
        "\n",
        "weather.head()"
      ],
      "execution_count": 22,
      "outputs": [
        {
          "output_type": "execute_result",
          "data": {
            "text/html": [
              "<div>\n",
              "<style scoped>\n",
              "    .dataframe tbody tr th:only-of-type {\n",
              "        vertical-align: middle;\n",
              "    }\n",
              "\n",
              "    .dataframe tbody tr th {\n",
              "        vertical-align: top;\n",
              "    }\n",
              "\n",
              "    .dataframe thead th {\n",
              "        text-align: right;\n",
              "    }\n",
              "</style>\n",
              "<table border=\"1\" class=\"dataframe\">\n",
              "  <thead>\n",
              "    <tr style=\"text-align: right;\">\n",
              "      <th></th>\n",
              "      <th>periods</th>\n",
              "      <th>short_desc</th>\n",
              "      <th>temps</th>\n",
              "      <th>description</th>\n",
              "    </tr>\n",
              "  </thead>\n",
              "  <tbody>\n",
              "    <tr>\n",
              "      <th>0</th>\n",
              "      <td>Today</td>\n",
              "      <td>Sunny</td>\n",
              "      <td>High: 70 °F</td>\n",
              "      <td>Today: Sunny, with a high near 70. Light and v...</td>\n",
              "    </tr>\n",
              "    <tr>\n",
              "      <th>1</th>\n",
              "      <td>Tonight</td>\n",
              "      <td>IncreasingClouds</td>\n",
              "      <td>Low: 59 °F</td>\n",
              "      <td>Tonight: Increasing clouds, with a low around ...</td>\n",
              "    </tr>\n",
              "    <tr>\n",
              "      <th>2</th>\n",
              "      <td>Wednesday</td>\n",
              "      <td>Slight ChanceShowers thenMostly Cloudy</td>\n",
              "      <td>High: 69 °F</td>\n",
              "      <td>Wednesday: A 20 percent chance of showers befo...</td>\n",
              "    </tr>\n",
              "    <tr>\n",
              "      <th>3</th>\n",
              "      <td>WednesdayNight</td>\n",
              "      <td>Partly Cloudy</td>\n",
              "      <td>Low: 58 °F</td>\n",
              "      <td>Wednesday Night: Partly cloudy, with a low aro...</td>\n",
              "    </tr>\n",
              "    <tr>\n",
              "      <th>4</th>\n",
              "      <td>Thursday</td>\n",
              "      <td>Mostly Sunny</td>\n",
              "      <td>High: 70 °F</td>\n",
              "      <td>Thursday: Mostly sunny, with a high near 70. L...</td>\n",
              "    </tr>\n",
              "  </tbody>\n",
              "</table>\n",
              "</div>"
            ],
            "text/plain": [
              "          periods  ...                                        description\n",
              "0           Today  ...  Today: Sunny, with a high near 70. Light and v...\n",
              "1         Tonight  ...  Tonight: Increasing clouds, with a low around ...\n",
              "2       Wednesday  ...  Wednesday: A 20 percent chance of showers befo...\n",
              "3  WednesdayNight  ...  Wednesday Night: Partly cloudy, with a low aro...\n",
              "4        Thursday  ...  Thursday: Mostly sunny, with a high near 70. L...\n",
              "\n",
              "[5 rows x 4 columns]"
            ]
          },
          "metadata": {
            "tags": []
          },
          "execution_count": 22
        }
      ]
    }
  ]
}